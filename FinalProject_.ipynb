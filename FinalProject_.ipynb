{
 "cells": [
  {
   "cell_type": "code",
   "execution_count": 1,
   "id": "010dd790-bf1c-4d45-818d-29d97490e1ae",
   "metadata": {},
   "outputs": [],
   "source": [
    "import os\n",
    "import pandas as pd"
   ]
  },
  {
   "cell_type": "code",
   "execution_count": 5,
   "id": "6698d331-0b80-4416-992d-f35f80ec449a",
   "metadata": {},
   "outputs": [],
   "source": [
    "# Путь к папке, где лежат dish_00000, dish_00001 и т.д.\n",
    "base_dir = \"C:/Users/Leopard/Desktop/Jupyter_Python_ML/Univer/Final_AI_model/Dataset_dish\""
   ]
  },
  {
   "cell_type": "code",
   "execution_count": 7,
   "id": "c8dfa7a4-6140-4562-af22-95c8e365abf6",
   "metadata": {},
   "outputs": [],
   "source": [
    "# === Шаг 1. Загрузка CSV без заголовков ===\n",
    "meta1 = pd.read_csv(\"C:/Users/Leopard/Desktop/Jupyter_Python_ML/Univer/Final_AI_model/dataset_fianl/dish_metadata_cafe1.csv\",\n",
    "                    header=None,\n",
    "                    engine='python',\n",
    "                    on_bad_lines='skip')\n",
    "\n",
    "meta2 = pd.read_csv(\"C:/Users/Leopard/Desktop/Jupyter_Python_ML/Univer/Final_AI_model/dataset_fianl/dish_metadata_cafe2.csv\",\n",
    "                    header=None,\n",
    "                    engine='python',\n",
    "                    on_bad_lines='skip')"
   ]
  },
  {
   "cell_type": "code",
   "execution_count": 9,
   "id": "8feaebd0-5c19-41d3-9172-fd88beda150b",
   "metadata": {},
   "outputs": [],
   "source": [
    "# === Шаг 2. Объединение ===\n",
    "meta = pd.concat([meta1, meta2], ignore_index=True)"
   ]
  },
  {
   "cell_type": "code",
   "execution_count": 11,
   "id": "83c6cc1b-690b-4c1a-8310-fc9174d3b88c",
   "metadata": {},
   "outputs": [],
   "source": [
    "# === Шаг 3. Назначаем названия колонок ===\n",
    "# Первая колонка — dish_id, вторая — total_calories\n",
    "# Остальные пока не нужны, но дадим им временные имена\n",
    "meta.columns = ['dish_id', 'total_calories'] + [f'col_{i}' for i in range(meta.shape[1] - 2)]"
   ]
  },
  {
   "cell_type": "code",
   "execution_count": 13,
   "id": "f424314f-eec9-4894-b4a1-d06f46b1a821",
   "metadata": {},
   "outputs": [],
   "source": [
    "# Категоризация по калориям\n",
    "bins = [0, 300, 600, meta['total_calories'].max() + 1]\n",
    "labels = ['low', 'medium', 'high']\n",
    "meta['cal_label'] = pd.cut(meta['total_calories'], bins=bins, labels=labels)"
   ]
  },
  {
   "cell_type": "code",
   "execution_count": 15,
   "id": "5f3b4fac-8250-406c-8c8d-2d8806e3d36e",
   "metadata": {},
   "outputs": [
    {
     "name": "stdout",
     "output_type": "stream",
     "text": [
      "           dish_id  total_calories cal_label\n",
      "0  dish_1561662216      300.794281    medium\n",
      "1  dish_1562688426      137.569992       low\n",
      "2  dish_1561662054      419.438782    medium\n",
      "3  dish_1562008979      382.936646    medium\n",
      "4  dish_1560455030       20.590000       low\n"
     ]
    }
   ],
   "source": [
    "print(meta[['dish_id', 'total_calories', 'cal_label']].head())"
   ]
  },
  {
   "cell_type": "code",
   "execution_count": 17,
   "id": "62fe4bff-9596-4470-8aeb-d65e92755625",
   "metadata": {},
   "outputs": [],
   "source": [
    "meta['dish_id'] = meta['dish_id'].str.replace('dish_', '').astype('int64')"
   ]
  },
  {
   "cell_type": "code",
   "execution_count": 52,
   "id": "1593436b-cc01-4189-a550-f7e504b792bb",
   "metadata": {},
   "outputs": [
    {
     "name": "stdout",
     "output_type": "stream",
     "text": [
      "Готово! Сохранено в image_labels.csv\n"
     ]
    }
   ],
   "source": [
    "# Создаём список фото (берём по 1 фото из каждой папки)\n",
    "records = []\n",
    "\n",
    "for folder in os.listdir(base_dir):\n",
    "    folder_path = os.path.join(base_dir, folder)\n",
    "    if os.path.isdir(folder_path) and folder.startswith(\"dish_\"):\n",
    "        dish_id = folder.split(\"_\")[1]\n",
    "        frames_folder = os.path.join(folder_path, \"frames_sampled30\")\n",
    "        if os.path.isdir(frames_folder):\n",
    "            images = [f for f in sorted(os.listdir(frames_folder))\n",
    "                      if os.path.isfile(os.path.join(frames_folder, f))]\n",
    "            if images:\n",
    "                first_image_path = os.path.join(frames_folder, images[0])\n",
    "                records.append({'dish_id': int(dish_id), 'image_path': first_image_path})\n",
    "\n",
    "# В DataFrame\n",
    "df_images = pd.DataFrame(records)\n",
    "\n",
    "# Объединяем с метками калорий\n",
    "df_full = df_images.merge(meta[['dish_id', 'cal_label']], on='dish_id')\n",
    "\n",
    "# Сохраняем\n",
    "df_full.to_csv('image_labels.csv', index=False)\n",
    "print(\"Готово! Сохранено в image_labels.csv\")"
   ]
  },
  {
   "cell_type": "code",
   "execution_count": null,
   "id": "f0d96bbe-1f7e-4f18-83af-a3404a6b3eb8",
   "metadata": {},
   "outputs": [],
   "source": []
  }
 ],
 "metadata": {
  "kernelspec": {
   "display_name": "Python 3 (ipykernel)",
   "language": "python",
   "name": "python3"
  },
  "language_info": {
   "codemirror_mode": {
    "name": "ipython",
    "version": 3
   },
   "file_extension": ".py",
   "mimetype": "text/x-python",
   "name": "python",
   "nbconvert_exporter": "python",
   "pygments_lexer": "ipython3",
   "version": "3.12.4"
  }
 },
 "nbformat": 4,
 "nbformat_minor": 5
}
